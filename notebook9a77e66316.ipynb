{
 "cells": [
  {
   "cell_type": "code",
   "execution_count": 1,
   "id": "f22de031",
   "metadata": {
    "_cell_guid": "b1076dfc-b9ad-4769-8c92-a6c4dae69d19",
    "_uuid": "8f2839f25d086af736a60e9eeb907d3b93b6e0e5",
    "execution": {
     "iopub.execute_input": "2022-02-11T07:26:28.597973Z",
     "iopub.status.busy": "2022-02-11T07:26:28.595887Z",
     "iopub.status.idle": "2022-02-11T07:26:28.608689Z",
     "shell.execute_reply": "2022-02-11T07:26:28.609453Z",
     "shell.execute_reply.started": "2022-02-11T07:22:08.074740Z"
    },
    "papermill": {
     "duration": 0.026557,
     "end_time": "2022-02-11T07:26:28.609772",
     "exception": false,
     "start_time": "2022-02-11T07:26:28.583215",
     "status": "completed"
    },
    "tags": []
   },
   "outputs": [
    {
     "name": "stdout",
     "output_type": "stream",
     "text": [
      "/kaggle/input/titanic/train.csv\n",
      "/kaggle/input/titanic/test.csv\n",
      "/kaggle/input/titanic/gender_submission.csv\n"
     ]
    }
   ],
   "source": [
    "# This Python 3 environment comes with many helpful analytics libraries installed\n",
    "# It is defined by the kaggle/python Docker image: https://github.com/kaggle/docker-python\n",
    "# For example, here's several helpful packages to load\n",
    "\n",
    "import numpy as np # linear algebra\n",
    "import pandas as pd # data processing, CSV file I/O (e.g. pd.read_csv)\n",
    "\n",
    "# Input data files are available in the read-only \"../input/\" directory\n",
    "# For example, running this (by clicking run or pressing Shift+Enter) will list all files under the input directory\n",
    "\n",
    "import os\n",
    "for dirname, _, filenames in os.walk('/kaggle/input'):\n",
    "    for filename in filenames:\n",
    "        print(os.path.join(dirname, filename))\n",
    "\n",
    "# You can write up to 20GB to the current directory (/kaggle/working/) that gets preserved as output when you create a version using \"Save & Run All\" \n",
    "# You can also write temporary files to /kaggle/temp/, but they won't be saved outside of the current session"
   ]
  },
  {
   "cell_type": "code",
   "execution_count": 2,
   "id": "0508fefb",
   "metadata": {
    "execution": {
     "iopub.execute_input": "2022-02-11T07:26:28.631046Z",
     "iopub.status.busy": "2022-02-11T07:26:28.630167Z",
     "iopub.status.idle": "2022-02-11T07:26:28.680078Z",
     "shell.execute_reply": "2022-02-11T07:26:28.679444Z",
     "shell.execute_reply.started": "2022-02-11T07:22:09.819604Z"
    },
    "papermill": {
     "duration": 0.06072,
     "end_time": "2022-02-11T07:26:28.680225",
     "exception": false,
     "start_time": "2022-02-11T07:26:28.619505",
     "status": "completed"
    },
    "tags": []
   },
   "outputs": [
    {
     "name": "stdout",
     "output_type": "stream",
     "text": [
      "Train data:\n",
      "    PassengerId  Survived  Pclass  \\\n",
      "0            1         0       3   \n",
      "1            2         1       1   \n",
      "2            3         1       3   \n",
      "3            4         1       1   \n",
      "4            5         0       3   \n",
      "\n",
      "                                                Name     Sex   Age  SibSp  \\\n",
      "0                            Braund, Mr. Owen Harris    male  22.0      1   \n",
      "1  Cumings, Mrs. John Bradley (Florence Briggs Th...  female  38.0      1   \n",
      "2                             Heikkinen, Miss. Laina  female  26.0      0   \n",
      "3       Futrelle, Mrs. Jacques Heath (Lily May Peel)  female  35.0      1   \n",
      "4                           Allen, Mr. William Henry    male  35.0      0   \n",
      "\n",
      "   Parch            Ticket     Fare Cabin Embarked  \n",
      "0      0         A/5 21171   7.2500   NaN        S  \n",
      "1      0          PC 17599  71.2833   C85        C  \n",
      "2      0  STON/O2. 3101282   7.9250   NaN        S  \n",
      "3      0            113803  53.1000  C123        S  \n",
      "4      0            373450   8.0500   NaN        S  \n",
      "Test data:\n",
      "    PassengerId  Pclass                                          Name     Sex  \\\n",
      "0          892       3                              Kelly, Mr. James    male   \n",
      "1          893       3              Wilkes, Mrs. James (Ellen Needs)  female   \n",
      "2          894       2                     Myles, Mr. Thomas Francis    male   \n",
      "3          895       3                              Wirz, Mr. Albert    male   \n",
      "4          896       3  Hirvonen, Mrs. Alexander (Helga E Lindqvist)  female   \n",
      "\n",
      "    Age  SibSp  Parch   Ticket     Fare Cabin Embarked  \n",
      "0  34.5      0      0   330911   7.8292   NaN        Q  \n",
      "1  47.0      1      0   363272   7.0000   NaN        S  \n",
      "2  62.0      0      0   240276   9.6875   NaN        Q  \n",
      "3  27.0      0      0   315154   8.6625   NaN        S  \n",
      "4  22.0      1      1  3101298  12.2875   NaN        S  \n",
      "Women data:\n",
      "    PassengerId  Survived\n",
      "0          892         0\n",
      "1          893         1\n",
      "2          894         0\n",
      "3          895         0\n",
      "4          896         1\n"
     ]
    }
   ],
   "source": [
    "#Load data\n",
    "train_data=pd.read_csv(\"/kaggle/input/titanic/train.csv\")\n",
    "test_data=pd.read_csv(\"/kaggle/input/titanic/test.csv\")\n",
    "gender_data=pd.read_csv(\"/kaggle/input/titanic/gender_submission.csv\")\n",
    "#examine data\n",
    "print(\"Train data:\\n\",train_data.head())\n",
    "print(\"Test data:\\n\",test_data.head())\n",
    "print(\"Women data:\\n\",gender_data.head())#all women surive"
   ]
  },
  {
   "cell_type": "code",
   "execution_count": 3,
   "id": "1fdbaf8d",
   "metadata": {
    "execution": {
     "iopub.execute_input": "2022-02-11T07:26:28.714677Z",
     "iopub.status.busy": "2022-02-11T07:26:28.713988Z",
     "iopub.status.idle": "2022-02-11T07:26:28.717133Z",
     "shell.execute_reply": "2022-02-11T07:26:28.717715Z",
     "shell.execute_reply.started": "2022-02-11T07:22:12.703572Z"
    },
    "papermill": {
     "duration": 0.028634,
     "end_time": "2022-02-11T07:26:28.717856",
     "exception": false,
     "start_time": "2022-02-11T07:26:28.689222",
     "status": "completed"
    },
    "tags": []
   },
   "outputs": [
    {
     "name": "stdout",
     "output_type": "stream",
     "text": [
      "1      1\n",
      "2      1\n",
      "3      1\n",
      "8      1\n",
      "9      1\n",
      "      ..\n",
      "880    1\n",
      "882    0\n",
      "885    0\n",
      "887    1\n",
      "888    0\n",
      "Name: Survived, Length: 314, dtype: int64\n",
      "% of women who survived 0.7420382165605095\n"
     ]
    }
   ],
   "source": [
    "#women surrived\n",
    "women=train_data.loc[train_data.Sex==\"female\"][\"Survived\"]\n",
    "print(women)\n",
    "rate_women=sum(women)/len(women)\n",
    "print(\"% of women who survived\",rate_women)"
   ]
  },
  {
   "cell_type": "code",
   "execution_count": 4,
   "id": "52d68126",
   "metadata": {
    "execution": {
     "iopub.execute_input": "2022-02-11T07:26:28.733164Z",
     "iopub.status.busy": "2022-02-11T07:26:28.732550Z",
     "iopub.status.idle": "2022-02-11T07:26:28.740449Z",
     "shell.execute_reply": "2022-02-11T07:26:28.740934Z",
     "shell.execute_reply.started": "2022-02-11T07:22:14.945921Z"
    },
    "papermill": {
     "duration": 0.017069,
     "end_time": "2022-02-11T07:26:28.741097",
     "exception": false,
     "start_time": "2022-02-11T07:26:28.724028",
     "status": "completed"
    },
    "tags": []
   },
   "outputs": [
    {
     "name": "stdout",
     "output_type": "stream",
     "text": [
      "0      0\n",
      "4      0\n",
      "5      0\n",
      "6      0\n",
      "7      0\n",
      "      ..\n",
      "883    0\n",
      "884    0\n",
      "886    0\n",
      "889    1\n",
      "890    0\n",
      "Name: Survived, Length: 577, dtype: int64\n",
      "% of men who survived 0.18890814558058924\n"
     ]
    }
   ],
   "source": [
    "#men surrived\n",
    "men=train_data.loc[train_data.Sex=='male'][\"Survived\"]\n",
    "print(men)\n",
    "rate_men=sum(men)/len(men)\n",
    "print(\"% of men who survived\",rate_men)"
   ]
  },
  {
   "cell_type": "code",
   "execution_count": 5,
   "id": "ed932170",
   "metadata": {
    "execution": {
     "iopub.execute_input": "2022-02-11T07:26:28.763946Z",
     "iopub.status.busy": "2022-02-11T07:26:28.763102Z",
     "iopub.status.idle": "2022-02-11T07:26:30.357065Z",
     "shell.execute_reply": "2022-02-11T07:26:30.356610Z",
     "shell.execute_reply.started": "2022-02-11T07:23:56.313313Z"
    },
    "papermill": {
     "duration": 1.606393,
     "end_time": "2022-02-11T07:26:30.357191",
     "exception": false,
     "start_time": "2022-02-11T07:26:28.750798",
     "status": "completed"
    },
    "tags": []
   },
   "outputs": [
    {
     "name": "stdout",
     "output_type": "stream",
     "text": [
      "your submission was successfully saved!!\n"
     ]
    }
   ],
   "source": [
    "from sklearn.ensemble import RandomForestClassifier\n",
    "y=train_data[\"Survived\"]\n",
    "\n",
    "fitur=[\"Pclass\",\"Sex\",\"SibSp\",\"Parch\"]\n",
    "X_train=pd.get_dummies(train_data[fitur])\n",
    "X_test=pd.get_dummies(test_data[fitur])\n",
    "\n",
    "model=RandomForestClassifier(n_estimators=100,max_depth=5, random_state=1)\n",
    "model.fit(X_train,y)\n",
    "predictions=model.predict(X_test)\n",
    "\n",
    "output=pd.DataFrame({'PassengerId':test_data.PassengerId,'Survived':predictions})\n",
    "output.to_csv(\"submission.csv\",index=False)\n",
    "print(\"your submission was successfully saved!!\")\n"
   ]
  }
 ],
 "metadata": {
  "kernelspec": {
   "display_name": "Python 3",
   "language": "python",
   "name": "python3"
  },
  "language_info": {
   "codemirror_mode": {
    "name": "ipython",
    "version": 3
   },
   "file_extension": ".py",
   "mimetype": "text/x-python",
   "name": "python",
   "nbconvert_exporter": "python",
   "pygments_lexer": "ipython3",
   "version": "3.7.12"
  },
  "papermill": {
   "default_parameters": {},
   "duration": 11.881323,
   "end_time": "2022-02-11T07:26:31.075283",
   "environment_variables": {},
   "exception": null,
   "input_path": "__notebook__.ipynb",
   "output_path": "__notebook__.ipynb",
   "parameters": {},
   "start_time": "2022-02-11T07:26:19.193960",
   "version": "2.3.3"
  }
 },
 "nbformat": 4,
 "nbformat_minor": 5
}
